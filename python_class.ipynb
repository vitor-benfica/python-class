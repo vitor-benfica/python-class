{
 "cells": [
  {
   "cell_type": "code",
   "execution_count": null,
   "id": "d03719d2-16a3-499e-8404-bd4677b0940c",
   "metadata": {},
   "outputs": [],
   "source": [
    "'hello mundo!!'"
   ]
  },
  {
   "cell_type": "code",
   "execution_count": 2,
   "id": "f415b253-7fcb-4ea2-8637-16a412e7b90e",
   "metadata": {},
   "outputs": [],
   "source": [
    "import numpy as np\n",
    "arr1 = np.random.rand(5,5)"
   ]
  },
  {
   "cell_type": "code",
   "execution_count": 17,
   "id": "c8a8fbe8-9310-44cb-bf50-762ab70aaf92",
   "metadata": {},
   "outputs": [
    {
     "data": {
      "text/plain": [
       "array([[0.70754169, 0.77720388, 0.44631712, 0.36302427, 1.45572218],\n",
       "       [0.23842466, 0.56779985, 0.31321788, 0.24583067, 0.65375804],\n",
       "       [1.08080539, 1.40735177, 0.10147142, 0.49454935, 1.28655289],\n",
       "       [0.38846677, 0.63916268, 1.04458499, 0.93196673, 0.29902548],\n",
       "       [1.02912101, 1.07658515, 1.47019296, 0.81557437, 0.65464056]])"
      ]
     },
     "execution_count": 17,
     "metadata": {},
     "output_type": "execute_result"
    }
   ],
   "source": [
    "np.tan(arr1)"
   ]
  },
  {
   "cell_type": "code",
   "execution_count": 33,
   "id": "7f165e90-1b86-4441-be89-2841cfbcc403",
   "metadata": {},
   "outputs": [
    {
     "data": {
      "text/plain": [
       "0.5912654032384009"
      ]
     },
     "execution_count": 33,
     "metadata": {},
     "output_type": "execute_result"
    }
   ],
   "source": [
    "np.sum(arr1, axis =1) # soma cada linha da matriz\n",
    "np.min(arr1, axis = 0) # retorna o valor mais baixo de cada coluna da matriz\n",
    "np.mean(arr1) # retorna a média de todos os valores na matrizb"
   ]
  },
  {
   "cell_type": "code",
   "execution_count": 43,
   "id": "a047e427-6c25-44e6-b8e7-20d4630753eb",
   "metadata": {},
   "outputs": [
    {
     "data": {
      "text/plain": [
       "array([[0.41978702, 0.34823029]])"
      ]
     },
     "execution_count": 43,
     "metadata": {},
     "output_type": "execute_result"
    }
   ],
   "source": [
    "arr1[1:, 2:4] # seleciona as linhas 1 até o final e as colunas 2 e 3 ( lembrar que o python n~ao inclui o último elemento)"
   ]
  },
  {
   "cell_type": "code",
   "execution_count": 39,
   "id": "42a9ad9c-33f8-4f8e-a06f-d143dc4625d8",
   "metadata": {},
   "outputs": [
    {
     "data": {
      "text/plain": [
       "array([[0.61576959, 0.66068549, 0.41978702, 0.34823029, 0.96888645],\n",
       "       [0.2340549 , 0.51640634, 0.30353875, 0.24105075, 0.57901254],\n",
       "       [0.82421237, 0.95302193, 0.10112529, 0.45927759, 0.91006912],\n",
       "       [0.37052457, 0.56871895, 0.80720108, 0.7501982 , 0.2905625 ],\n",
       "       [0.79974872, 0.82226179, 0.97349466, 0.68416563, 0.57963056]])"
      ]
     },
     "execution_count": 39,
     "metadata": {},
     "output_type": "execute_result"
    }
   ],
   "source": [
    "arr1"
   ]
  },
  {
   "cell_type": "code",
   "execution_count": 51,
   "id": "e3faae04-54bd-48ff-b36c-c63b47d66402",
   "metadata": {},
   "outputs": [
    {
     "data": {
      "text/plain": [
       "array([[0.41978702, 0.34823029],\n",
       "       [0.30353875, 0.24105075],\n",
       "       [0.10112529, 0.45927759]])"
      ]
     },
     "execution_count": 51,
     "metadata": {},
     "output_type": "execute_result"
    }
   ],
   "source": [
    "arr1[0:3, 2:-1] # linhas 0 até 1, ou seja pega só a linha 0. colunas 2 até  ultima, mas exclui a última"
   ]
  },
  {
   "cell_type": "code",
   "execution_count": 57,
   "id": "12020e1b-a38f-455e-a157-ec369cd0afbc",
   "metadata": {},
   "outputs": [
    {
     "data": {
      "text/plain": [
       "array([[0.34823029, 0.41978702, 0.61576959, 0.66068549, 0.96888645],\n",
       "       [0.2340549 , 0.24105075, 0.30353875, 0.51640634, 0.57901254],\n",
       "       [0.10112529, 0.45927759, 0.82421237, 0.91006912, 0.95302193],\n",
       "       [0.2905625 , 0.37052457, 0.56871895, 0.7501982 , 0.80720108],\n",
       "       [0.57963056, 0.68416563, 0.79974872, 0.82226179, 0.97349466]])"
      ]
     },
     "execution_count": 57,
     "metadata": {},
     "output_type": "execute_result"
    }
   ],
   "source": [
    "np.sort(arr1, axis=1) # ordena por linha\n",
    "np.sort(arr1, axis= 0) # ordea por coluna\n",
    "np.sort(arr1)"
   ]
  },
  {
   "cell_type": "code",
   "execution_count": 61,
   "id": "dd2f27a0-150c-4657-bf34-e4421f2213d1",
   "metadata": {},
   "outputs": [
    {
     "data": {
      "text/plain": [
       "array([[0.61576959, 0.66068549, 0.41978702, 0.34823029, 0.96888645],\n",
       "       [0.2340549 , 0.51640634, 0.30353875, 0.24105075, 0.57901254],\n",
       "       [0.82421237, 0.95302193, 0.10112529, 0.45927759, 0.91006912],\n",
       "       [0.37052457, 0.56871895, 0.80720108, 0.7501982 , 0.2905625 ],\n",
       "       [0.79974872, 0.82226179, 0.97349466, 0.68416563, 0.57963056]])"
      ]
     },
     "execution_count": 61,
     "metadata": {},
     "output_type": "execute_result"
    }
   ],
   "source": [
    "arr1"
   ]
  },
  {
   "cell_type": "code",
   "execution_count": 63,
   "id": "5b06d2d3-f528-47e2-afec-40a1fcfc2535",
   "metadata": {},
   "outputs": [
    {
     "data": {
      "text/plain": [
       "array([[0.61576959, 0.2340549 , 0.82421237, 0.37052457, 0.79974872],\n",
       "       [0.66068549, 0.51640634, 0.95302193, 0.56871895, 0.82226179],\n",
       "       [0.41978702, 0.30353875, 0.10112529, 0.80720108, 0.97349466],\n",
       "       [0.34823029, 0.24105075, 0.45927759, 0.7501982 , 0.68416563],\n",
       "       [0.96888645, 0.57901254, 0.91006912, 0.2905625 , 0.57963056]])"
      ]
     },
     "execution_count": 63,
     "metadata": {},
     "output_type": "execute_result"
    }
   ],
   "source": [
    "arr1.T # transpoem a matriz"
   ]
  },
  {
   "cell_type": "code",
   "execution_count": 67,
   "id": "7d7ded19-0eda-4162-a873-217ff978b9bd",
   "metadata": {},
   "outputs": [
    {
     "data": {
      "text/plain": [
       "array([[0.61576959, 0.2340549 , 0.82421237],\n",
       "       [0.66068549, 0.51640634, 0.95302193],\n",
       "       [0.41978702, 0.30353875, 0.10112529],\n",
       "       [0.34823029, 0.24105075, 0.45927759],\n",
       "       [0.96888645, 0.57901254, 0.91006912]])"
      ]
     },
     "execution_count": 67,
     "metadata": {},
     "output_type": "execute_result"
    }
   ],
   "source": [
    "arr1[:3, :].T # transpose() retorna o mesmob"
   ]
  },
  {
   "cell_type": "code",
   "execution_count": 6,
   "id": "f8e81c99-5321-4170-9421-fbe773d7e2c3",
   "metadata": {},
   "outputs": [],
   "source": [
    "arr = np.array([4,5,6,7,8])"
   ]
  },
  {
   "cell_type": "code",
   "execution_count": 71,
   "id": "3c140362-1406-4ad0-9cf1-336769ad48c7",
   "metadata": {},
   "outputs": [
    {
     "data": {
      "text/plain": [
       "array([4, 5, 6, 7, 8, 8])"
      ]
     },
     "execution_count": 71,
     "metadata": {},
     "output_type": "execute_result"
    }
   ],
   "source": [
    "arr1 = np.append(arr,8)\n",
    "arr1"
   ]
  },
  {
   "cell_type": "code",
   "execution_count": 8,
   "id": "717a00ac-3434-4d3b-8700-14201dec8b96",
   "metadata": {},
   "outputs": [
    {
     "data": {
      "text/plain": [
       "array([1, 2, 3, 4, 5, 6, 7, 8])"
      ]
     },
     "execution_count": 8,
     "metadata": {},
     "output_type": "execute_result"
    }
   ],
   "source": [
    "arr2 = np.insert(arr,0,[1,2,3]) # add o array novo na posiçao 0\n",
    "arr2"
   ]
  },
  {
   "cell_type": "code",
   "execution_count": 10,
   "id": "c6025c81-f73f-453e-baf0-e78b67d737ec",
   "metadata": {},
   "outputs": [
    {
     "data": {
      "text/plain": [
       "array([2, 3, 4, 5, 6, 7, 8])"
      ]
     },
     "execution_count": 10,
     "metadata": {},
     "output_type": "execute_result"
    }
   ],
   "source": [
    "arr3 = np.delete(arr2, 0) · Deleta o elemento na posiçao 0\n",
    "arr3"
   ]
  },
  {
   "cell_type": "code",
   "execution_count": 12,
   "id": "98c9f178-5bae-4aa0-95d3-2b9b3a124ef2",
   "metadata": {},
   "outputs": [
    {
     "data": {
      "text/plain": [
       "array([2, 3, 4, 5, 6, 7, 8])"
      ]
     },
     "execution_count": 12,
     "metadata": {},
     "output_type": "execute_result"
    }
   ],
   "source": [
    "arrC = arr3.copy()\n",
    "arrC"
   ]
  },
  {
   "cell_type": "code",
   "execution_count": 26,
   "id": "276752ca-705d-4979-91a3-938a819b439b",
   "metadata": {},
   "outputs": [
    {
     "name": "stdout",
     "output_type": "stream",
     "text": [
      "[[1 2 3 4]\n",
      " [1 2 3 4]\n",
      " [5 6 7 8]\n",
      " [5 6 7 8]]\n",
      "segunda matriz\n",
      "[[1 2 3 4 5 6 7 8]\n",
      " [1 2 3 4 5 6 7 8]]\n"
     ]
    }
   ],
   "source": [
    "arr1 = np.array([[1,2,3,4], [1,2,3,4]])\n",
    "arr2 = np.array([[5,6,7,8], [5,6,7,8]])\n",
    "\n",
    "arr_cat1 = np.concatenate((arr1, arr2), axis = 0) #· concatena as array . 0 para concatenar por colunas e 1 para concatenar por linha\n",
    "arr_cat2 = np.concatenate((arr1, arr2), axis = 1)\n",
    "print(arr_cat1)\n",
    "print(\"segunda matriz\")\n",
    "print(arr_cat2)"
   ]
  },
  {
   "cell_type": "code",
   "execution_count": 32,
   "id": "3f0c5267-2b92-41e5-891f-5653e59f068c",
   "metadata": {},
   "outputs": [
    {
     "name": "stdout",
     "output_type": "stream",
     "text": [
      "[[1 2 3 4]\n",
      " [1 2 3 4]\n",
      " [5 6 7 8]\n",
      " [5 6 7 8]]\n",
      "[[1 2 3 4 5 6 7 8]\n",
      " [1 2 3 4 5 6 7 8]]\n"
     ]
    }
   ],
   "source": [
    "catV = np.vstack((arr1,arr2))\n",
    "print(catV)\n",
    "catH = np.hstack((arr1,arr2))\n",
    "print(catH)"
   ]
  },
  {
   "cell_type": "code",
   "execution_count": 34,
   "id": "0df7c87f-be0b-4c71-95a8-0c7ed2b9ff24",
   "metadata": {},
   "outputs": [
    {
     "data": {
      "text/plain": [
       "array([ 1,  2,  3,  4,  5, 34])"
      ]
     },
     "execution_count": 34,
     "metadata": {},
     "output_type": "execute_result"
    }
   ],
   "source": [
    "arr = np.array([1,2,34,5,2,3,4,1])\n",
    "np.unique(arr)"
   ]
  },
  {
   "cell_type": "code",
   "execution_count": 36,
   "id": "59a9bc80-b7c3-4a11-bffb-9133d6c0f163",
   "metadata": {},
   "outputs": [
    {
     "name": "stdout",
     "output_type": "stream",
     "text": [
      "[ 1  2  3  4  5 34]\n",
      "[2 2 1 1 1 1]\n"
     ]
    }
   ],
   "source": [
    "valores_unicos, ocorrencias = np.unique(arr,return_counts = True)\n",
    "print(valores_unicos)\n",
    "print(ocorrencias)\n",
    "# irá criar 2 vetores, um com os valores únicos e outro com a quantidade de ocorrência de cada valor"
   ]
  },
  {
   "cell_type": "raw",
   "id": "f14666c7-4c2b-4d97-b275-c4d364372648",
   "metadata": {},
   "source": []
  },
  {
   "cell_type": "code",
   "execution_count": null,
   "id": "f08d2921-73a7-4377-aac7-4942cb482d45",
   "metadata": {},
   "outputs": [],
   "source": []
  }
 ],
 "metadata": {
  "kernelspec": {
   "display_name": "Python 3 (ipykernel)",
   "language": "python",
   "name": "python3"
  },
  "language_info": {
   "codemirror_mode": {
    "name": "ipython",
    "version": 3
   },
   "file_extension": ".py",
   "mimetype": "text/x-python",
   "name": "python",
   "nbconvert_exporter": "python",
   "pygments_lexer": "ipython3",
   "version": "3.12.7"
  }
 },
 "nbformat": 4,
 "nbformat_minor": 5
}
